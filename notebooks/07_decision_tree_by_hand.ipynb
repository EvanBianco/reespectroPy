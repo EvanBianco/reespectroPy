{
 "cells": [
  {
   "cell_type": "markdown",
   "id": "7495b95f",
   "metadata": {},
   "source": [
    "## A little note about Truthy and Falsey\n",
    "Will serve you well when thinking about conditions and \n",
    "making choices with if / else statements"
   ]
  },
  {
   "cell_type": "code",
   "execution_count": 16,
   "id": "f86dd646",
   "metadata": {},
   "outputs": [
    {
     "name": "stdout",
     "output_type": "stream",
     "text": [
      "row 1: 978 feature exists\n",
      "row 1: 978 feature exists just the same\n",
      "row 2: 978 feature does not exist\n"
     ]
    }
   ],
   "source": [
    "# Key point, 1s and 0s are treated as True / False, so we can\n",
    "# check if a feature is in a given column two ways\n",
    "\n",
    "# This reads nice\n",
    "if row1['one_hot_978'] == 1:\n",
    "    print('row 1: 978 feature exists')\n",
    "    \n",
    "    \n",
    "# This is shorthand, which is less readable, but personal preference\n",
    "if row1['one_hot_978']:  \n",
    "    print('row 1: 978 feature exists just the same')\n",
    "    \n",
    "    \n",
    "# Similarly if you want to want to negate the condition, you \n",
    "# can use the `not` keyword\n",
    "\n",
    "if not row2['one_hot_978']:\n",
    "    print('row 2: 978 feature does not exist')\n",
    "\n",
    "# Or you can just see if it equals zero\n",
    "if not row2['one_hot_978'] == 0:\n",
    "    print('row 2: 978 feature does not exist')"
   ]
  },
  {
   "cell_type": "code",
   "execution_count": 17,
   "id": "0fc9e23f",
   "metadata": {},
   "outputs": [
    {
     "data": {
      "text/plain": [
       "True"
      ]
     },
     "execution_count": 17,
     "metadata": {},
     "output_type": "execute_result"
    }
   ],
   "source": [
    "# This is because\n",
    "row2['one_hot_978'] == False"
   ]
  },
  {
   "cell_type": "code",
   "execution_count": 18,
   "id": "832276f3",
   "metadata": {},
   "outputs": [
    {
     "data": {
      "text/plain": [
       "False"
      ]
     },
     "execution_count": 18,
     "metadata": {},
     "output_type": "execute_result"
    }
   ],
   "source": [
    "# \n",
    "not row2['one_hot_978'] == False"
   ]
  },
  {
   "cell_type": "code",
   "execution_count": 19,
   "id": "bce6ca6e",
   "metadata": {},
   "outputs": [],
   "source": [
    "# \n",
    "def decision_tree(row):\n",
    "    \"\"\"\n",
    "    takes a dictionary called `row`, and asks a series of \n",
    "    if questions to determine the mineral name\n",
    "    \n",
    "    Args:\n",
    "        row (dict): a dictionary of 1s and zeros of key features\n",
    "    \n",
    "    Retruns:\n",
    "        mineral (str): the mineral classification\n",
    "    \"\"\"\n",
    "    if row['one_hot_978']:\n",
    "        if row['one_hot_915']:\n",
    "            if row['one_hot_909']:\n",
    "                mineral = 'EUD'\n",
    "            else:\n",
    "                if row['one_hot_911']:\n",
    "                    mineral = 'Donnalyte'\n",
    "                else:\n",
    "                    if row['one_hot_805']:\n",
    "                        mineral = 'Kainosite or Xenotime'\n",
    "        else:\n",
    "            mineral = 'unknown'\n",
    "            \n",
    "    else:\n",
    "        mineral = 'unknown'\n",
    "    \n",
    "    return mineral\n",
    "            \n",
    "    "
   ]
  },
  {
   "cell_type": "markdown",
   "id": "833729e3",
   "metadata": {},
   "source": [
    "# Let's create some data\n",
    "Do confirm or add your own. Note I've only built the tree to solve for these three mineral.\n",
    "\n",
    "Do you can put in other minearals and the function should return \"unknown\". Which means it will fail gracefully, instead of give and Error I think."
   ]
  },
  {
   "cell_type": "code",
   "execution_count": 29,
   "id": "34aa8c7b",
   "metadata": {},
   "outputs": [],
   "source": [
    "# create a dictionary containing the one-hot columns we need / want.\n",
    "# this is a hack because you'll have them in the columns of the \n",
    "# DataFrame eventually, and the syntax for access the columns will \n",
    "# be the same. Pandas DataFrame are basically fancy dictionaries \n",
    "# for each row\n",
    "\n",
    "# Eud\n",
    "row1 = {'one_hot_978': 1, \n",
    "        'one_hot_915': 1,\n",
    "        'one_hot_909': 1,\n",
    "        'one_hot_911': 0,\n",
    "        'one_hot_805': 0\n",
    "        }\n",
    "\n",
    "# Donnalyte\n",
    "row2 = {'one_hot_978': 1, \n",
    "        'one_hot_915': 1,\n",
    "        'one_hot_909': 0,\n",
    "        'one_hot_911': 1,\n",
    "        'one_hot_805': 0\n",
    "        }\n",
    "\n",
    "# Kainosite or Xenotime\n",
    "row3 = {'one_hot_978': 1, \n",
    "        'one_hot_915': 1,\n",
    "        'one_hot_909': 0,\n",
    "        'one_hot_911': 0,\n",
    "        'one_hot_805': 1\n",
    "        }"
   ]
  },
  {
   "cell_type": "code",
   "execution_count": 58,
   "id": "7f33c7df",
   "metadata": {},
   "outputs": [
    {
     "name": "stdout",
     "output_type": "stream",
     "text": [
      "row 0 --> EUD\n",
      "row 1 --> Donnalyte\n",
      "row 2 --> Kainosite or Xenotime\n"
     ]
    }
   ],
   "source": [
    "## should be Donnalyte\n",
    "for i, row in enumerate([row1, row2, row3]):\n",
    "    print(f'row {i} --> {decision_tree(row)}')\n"
   ]
  },
  {
   "cell_type": "markdown",
   "id": "9a97261d",
   "metadata": {},
   "source": [
    "Now, that is all fine and good, but we can make a mini-DataFame from of these three 3 rows. Eventually we'll just make this directly from the spreadhsheet of everything and make sure the column names in the function match the column names in the file."
   ]
  },
  {
   "cell_type": "code",
   "execution_count": 31,
   "id": "ce916f28",
   "metadata": {},
   "outputs": [],
   "source": [
    "import pandas as pd\n",
    "df = pd.DataFrame([row1, row2, row3])"
   ]
  },
  {
   "cell_type": "code",
   "execution_count": 33,
   "id": "65b66552",
   "metadata": {},
   "outputs": [
    {
     "data": {
      "text/html": [
       "<div>\n",
       "<style scoped>\n",
       "    .dataframe tbody tr th:only-of-type {\n",
       "        vertical-align: middle;\n",
       "    }\n",
       "\n",
       "    .dataframe tbody tr th {\n",
       "        vertical-align: top;\n",
       "    }\n",
       "\n",
       "    .dataframe thead th {\n",
       "        text-align: right;\n",
       "    }\n",
       "</style>\n",
       "<table border=\"1\" class=\"dataframe\">\n",
       "  <thead>\n",
       "    <tr style=\"text-align: right;\">\n",
       "      <th></th>\n",
       "      <th>one_hot_978</th>\n",
       "      <th>one_hot_915</th>\n",
       "      <th>one_hot_909</th>\n",
       "      <th>one_hot_911</th>\n",
       "      <th>one_hot_805</th>\n",
       "    </tr>\n",
       "  </thead>\n",
       "  <tbody>\n",
       "    <tr>\n",
       "      <th>0</th>\n",
       "      <td>1</td>\n",
       "      <td>1</td>\n",
       "      <td>1</td>\n",
       "      <td>0</td>\n",
       "      <td>0</td>\n",
       "    </tr>\n",
       "    <tr>\n",
       "      <th>1</th>\n",
       "      <td>1</td>\n",
       "      <td>1</td>\n",
       "      <td>0</td>\n",
       "      <td>1</td>\n",
       "      <td>0</td>\n",
       "    </tr>\n",
       "    <tr>\n",
       "      <th>2</th>\n",
       "      <td>1</td>\n",
       "      <td>1</td>\n",
       "      <td>0</td>\n",
       "      <td>0</td>\n",
       "      <td>1</td>\n",
       "    </tr>\n",
       "  </tbody>\n",
       "</table>\n",
       "</div>"
      ],
      "text/plain": [
       "   one_hot_978  one_hot_915  one_hot_909  one_hot_911  one_hot_805\n",
       "0            1            1            1            0            0\n",
       "1            1            1            0            1            0\n",
       "2            1            1            0            0            1"
      ]
     },
     "execution_count": 33,
     "metadata": {},
     "output_type": "execute_result"
    }
   ],
   "source": [
    "# this is starting to look more like your spreadsheet. It doesn't have all \n",
    "# the columns, but you get the idea. Indeed it doesn't need al the columns.\n",
    "df"
   ]
  },
  {
   "cell_type": "markdown",
   "id": "9b270d11",
   "metadata": {},
   "source": [
    "So once you have the `decision_tree()` function working for a single row. you can loop over the entire collection of rows. In Pandas there is a handy method to do this called `apply`."
   ]
  },
  {
   "cell_type": "code",
   "execution_count": 35,
   "id": "9c578762",
   "metadata": {},
   "outputs": [],
   "source": [
    "# It looks magical, but it basically applies our function across all the rows.\n",
    "df['mineral_predicton'] = df.apply(decision_tree, axis=1) "
   ]
  },
  {
   "cell_type": "markdown",
   "id": "6a01a0fe",
   "metadata": {},
   "source": [
    "Amazing!"
   ]
  },
  {
   "cell_type": "markdown",
   "id": "3955f968",
   "metadata": {},
   "source": [
    "Now when we look at our DataFrame we can see that it has a new column"
   ]
  },
  {
   "cell_type": "code",
   "execution_count": 37,
   "id": "39c68d56",
   "metadata": {},
   "outputs": [
    {
     "data": {
      "text/html": [
       "<div>\n",
       "<style scoped>\n",
       "    .dataframe tbody tr th:only-of-type {\n",
       "        vertical-align: middle;\n",
       "    }\n",
       "\n",
       "    .dataframe tbody tr th {\n",
       "        vertical-align: top;\n",
       "    }\n",
       "\n",
       "    .dataframe thead th {\n",
       "        text-align: right;\n",
       "    }\n",
       "</style>\n",
       "<table border=\"1\" class=\"dataframe\">\n",
       "  <thead>\n",
       "    <tr style=\"text-align: right;\">\n",
       "      <th></th>\n",
       "      <th>one_hot_978</th>\n",
       "      <th>one_hot_915</th>\n",
       "      <th>one_hot_909</th>\n",
       "      <th>one_hot_911</th>\n",
       "      <th>one_hot_805</th>\n",
       "      <th>mineral_predicton</th>\n",
       "    </tr>\n",
       "  </thead>\n",
       "  <tbody>\n",
       "    <tr>\n",
       "      <th>0</th>\n",
       "      <td>1</td>\n",
       "      <td>1</td>\n",
       "      <td>1</td>\n",
       "      <td>0</td>\n",
       "      <td>0</td>\n",
       "      <td>EUD</td>\n",
       "    </tr>\n",
       "    <tr>\n",
       "      <th>1</th>\n",
       "      <td>1</td>\n",
       "      <td>1</td>\n",
       "      <td>0</td>\n",
       "      <td>1</td>\n",
       "      <td>0</td>\n",
       "      <td>Donnalyte</td>\n",
       "    </tr>\n",
       "    <tr>\n",
       "      <th>2</th>\n",
       "      <td>1</td>\n",
       "      <td>1</td>\n",
       "      <td>0</td>\n",
       "      <td>0</td>\n",
       "      <td>1</td>\n",
       "      <td>Kainosite or Xenotime</td>\n",
       "    </tr>\n",
       "  </tbody>\n",
       "</table>\n",
       "</div>"
      ],
      "text/plain": [
       "   one_hot_978  one_hot_915  one_hot_909  one_hot_911  one_hot_805  \\\n",
       "0            1            1            1            0            0   \n",
       "1            1            1            0            1            0   \n",
       "2            1            1            0            0            1   \n",
       "\n",
       "       mineral_predicton  \n",
       "0                    EUD  \n",
       "1              Donnalyte  \n",
       "2  Kainosite or Xenotime  "
      ]
     },
     "execution_count": 37,
     "metadata": {},
     "output_type": "execute_result"
    }
   ],
   "source": [
    "df"
   ]
  },
  {
   "cell_type": "code",
   "execution_count": 48,
   "id": "314a7e10",
   "metadata": {},
   "outputs": [],
   "source": [
    "# we can reorder the columns if we want to \n",
    "new_column_order = list(df.columns[-1:]) + list(df.columns[1:])\n",
    "df_predictions = df[new_column_order]"
   ]
  },
  {
   "cell_type": "markdown",
   "id": "566bde47",
   "metadata": {},
   "source": [
    "Now we can save this new CSV to a file."
   ]
  },
  {
   "cell_type": "code",
   "execution_count": 47,
   "id": "eb17d7bb",
   "metadata": {},
   "outputs": [
    {
     "data": {
      "text/html": [
       "<div>\n",
       "<style scoped>\n",
       "    .dataframe tbody tr th:only-of-type {\n",
       "        vertical-align: middle;\n",
       "    }\n",
       "\n",
       "    .dataframe tbody tr th {\n",
       "        vertical-align: top;\n",
       "    }\n",
       "\n",
       "    .dataframe thead th {\n",
       "        text-align: right;\n",
       "    }\n",
       "</style>\n",
       "<table border=\"1\" class=\"dataframe\">\n",
       "  <thead>\n",
       "    <tr style=\"text-align: right;\">\n",
       "      <th></th>\n",
       "      <th>one_hot_978</th>\n",
       "      <th>one_hot_915</th>\n",
       "      <th>one_hot_909</th>\n",
       "      <th>one_hot_911</th>\n",
       "      <th>one_hot_805</th>\n",
       "      <th>mineral_predicton</th>\n",
       "    </tr>\n",
       "  </thead>\n",
       "  <tbody>\n",
       "    <tr>\n",
       "      <th>0</th>\n",
       "      <td>1</td>\n",
       "      <td>1</td>\n",
       "      <td>1</td>\n",
       "      <td>0</td>\n",
       "      <td>0</td>\n",
       "      <td>EUD</td>\n",
       "    </tr>\n",
       "    <tr>\n",
       "      <th>1</th>\n",
       "      <td>1</td>\n",
       "      <td>1</td>\n",
       "      <td>0</td>\n",
       "      <td>1</td>\n",
       "      <td>0</td>\n",
       "      <td>Donnalyte</td>\n",
       "    </tr>\n",
       "    <tr>\n",
       "      <th>2</th>\n",
       "      <td>1</td>\n",
       "      <td>1</td>\n",
       "      <td>0</td>\n",
       "      <td>0</td>\n",
       "      <td>1</td>\n",
       "      <td>Kainosite or Xenotime</td>\n",
       "    </tr>\n",
       "  </tbody>\n",
       "</table>\n",
       "</div>"
      ],
      "text/plain": [
       "   one_hot_978  one_hot_915  one_hot_909  one_hot_911  one_hot_805  \\\n",
       "0            1            1            1            0            0   \n",
       "1            1            1            0            1            0   \n",
       "2            1            1            0            0            1   \n",
       "\n",
       "       mineral_predicton  \n",
       "0                    EUD  \n",
       "1              Donnalyte  \n",
       "2  Kainosite or Xenotime  "
      ]
     },
     "execution_count": 47,
     "metadata": {},
     "output_type": "execute_result"
    }
   ],
   "source": [
    "df_predictions.to_csv('predictions.csv')"
   ]
  },
  {
   "cell_type": "code",
   "execution_count": null,
   "id": "c48de8c3",
   "metadata": {},
   "outputs": [],
   "source": [
    "# In practice, we'll want to use the full CSV file which you can access like so.\n",
    "df = pd.read_csv('filename.csv')"
   ]
  }
 ],
 "metadata": {
  "kernelspec": {
   "display_name": "reespect",
   "language": "python",
   "name": "reespect"
  },
  "language_info": {
   "codemirror_mode": {
    "name": "ipython",
    "version": 3
   },
   "file_extension": ".py",
   "mimetype": "text/x-python",
   "name": "python",
   "nbconvert_exporter": "python",
   "pygments_lexer": "ipython3",
   "version": "3.9.16"
  }
 },
 "nbformat": 4,
 "nbformat_minor": 5
}
