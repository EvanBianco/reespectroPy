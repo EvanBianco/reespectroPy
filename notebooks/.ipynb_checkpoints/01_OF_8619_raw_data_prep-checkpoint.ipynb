{
 "cells": [
  {
   "cell_type": "code",
   "execution_count": 1,
   "id": "d3df7904",
   "metadata": {},
   "outputs": [],
   "source": [
    "import glob\n",
    "import numpy as np\n",
    "import pandas as pd\n",
    "from spec_io import get_OF8619_data, get_OF8619_meta"
   ]
  },
  {
   "cell_type": "code",
   "execution_count": 2,
   "id": "5b2c004c",
   "metadata": {},
   "outputs": [],
   "source": [
    "%load_ext autoreload\n",
    "%autoreload 2"
   ]
  },
  {
   "cell_type": "markdown",
   "id": "2941a28b",
   "metadata": {},
   "source": [
    "First, let's get list of all the data files, and a list of all the PDF documents containing meta data for those data files."
   ]
  },
  {
   "cell_type": "code",
   "execution_count": 3,
   "id": "0ba49595",
   "metadata": {},
   "outputs": [],
   "source": [
    "data_dir = '../input_data/of_8619/'\n",
    "min_folders = glob.glob(data_dir +'Minerals/*')\n",
    "min_folders = [folder.split('/')[-1] for folder in min_folders]\n",
    "spectra_files = glob.glob(data_dir + 'Minerals/**/*.txt', recursive=True)\n",
    "spectra_meta_files = glob.glob(data_dir + 'Minerals/**/*Description.pdf', recursive=True)\n",
    "\n",
    "data_and_meta_files = []\n",
    "for d, m in zip(spectra_files, spectra_meta_files):\n",
    "    data_and_meta_files.append([d, m])"
   ]
  },
  {
   "cell_type": "markdown",
   "id": "8334c7d3",
   "metadata": {},
   "source": [
    "For each sample, make row we can put into a data frame."
   ]
  },
  {
   "cell_type": "markdown",
   "id": "d19c5f71",
   "metadata": {},
   "source": [
    "The follow cell loops over the dat file and meta file for each specimen, and creates a row containing the meta data and the reflectance values. This can take a while because it takes a while to parse the meta data from the PDF files."
   ]
  },
  {
   "cell_type": "code",
   "execution_count": 4,
   "id": "bdc16d00",
   "metadata": {},
   "outputs": [],
   "source": [
    "# build_data_frame --- this can take a while\n",
    "data = []\n",
    "count = 0\n",
    "for i, (datafile, metafile) in enumerate(data_and_meta_files):\n",
    "    meta = get_OF8619_meta(metafile)\n",
    "    try:\n",
    "        header, wvls, refl = get_OF8619_data(datafile, print_fname=False)\n",
    "        data.append(list(meta.values()) + list(refl))\n",
    "    except:\n",
    "        print(i, 'didnt work',  datafile.strip('/')[-1])\n",
    "        pass\n",
    "    count += 1"
   ]
  },
  {
   "cell_type": "markdown",
   "id": "8c512129",
   "metadata": {},
   "source": [
    "These are the samples that need special treatment\n",
    "\n",
    "```365 ../input_data/of_8619/Minerals/Kaolinite/1020_Kga1_Kaolinite/1020_KGa-1_Kaolinite_Data.txt\n",
    "366 ../input_data/of_8619/Minerals/Kaolinite/1013_NMC068179_Kaolinite/1013_NMC068179_Kaolinite_Data.txt\n",
    "369 ../input_data/of_8619/Minerals/Kaolinite/1021_Macon_Ga_Kaolinite/1021_MaconGa_Kaolinite_Data.txt\n",
    "371 ../input_data/of_8619/Minerals/Kaolinite/1018_GOTOMINE_Kaolinite/1018_GOTOMINE_Kaolinite_Data.txt\n",
    "372 ../input_data/of_8619/Minerals/Kaolinite/1014_NMC068188_Kaolinite/1014_NMC068188_Kaolinite_Data.txt\n",
    "373 ../input_data/of_8619/Minerals/Kaolinite/1011_NMC068173_Kaolinite/1011_NMC68173_Kaolinite_Data.txt\n",
    "374 ../input_data/of_8619/Minerals/Kaolinite/1007_NMC068122_Kaolinite/1007_NMC068122_Kaolinite_Data.txt\n",
    "375 ../input_data/of_8619/Minerals/Kaolinite/1012_NMC068177_Kaolinite/1012_NMC068177_Kaolinite_Data.txt\n",
    "376 ../input_data/of_8619/Minerals/Kaolinite/1022_FSP_Mg_NRProvins_Kaolinite/1022_Mg_NRProvins_Kaolinite_Data.txt\n",
    "379 ../input_data/of_8619/Minerals/Kaolinite/1015_NMC068191_Kaolinite/1015_NMC068191_Kaolinite_Data.txt\n",
    "380 ../input_data/of_8619/Minerals/Kaolinite/1019_BuffaloChinaMine_Kaolinite/1019_BuffaloChinaMine_Kaolinite_Data.txt\n",
    "382 ../input_data/of_8619/Minerals/Dickite/1001_NMC068170_Dickite/1001_NMC068170_Dickite_Data.txt\n",
    "383 ../input_data/of_8619/Minerals/Dickite/1003_NMC068170_Dickite/1003_NMC068170_Dickite_Data.txt\n",
    "385 ../input_data/of_8619/Minerals/Dickite/1002_NMC068170_Dickite/1002_NMC068170_Dickite_Data.txt\n",
    "401 ../input_data/of_8619/Minerals/Phengite/1039_Tibouron_Phengite/1039_Tibouron_Phengite_Data.txt\n",
    "460 ../input_data/of_8619/Minerals/Talc/1034_NMC068172_Talc/1034_NMC068172_Talc_Data.txt\n",
    "461 .```"
   ]
  },
  {
   "cell_type": "markdown",
   "id": "2eac88da",
   "metadata": {},
   "source": [
    "# Make DataFrame"
   ]
  },
  {
   "cell_type": "code",
   "execution_count": 5,
   "id": "a78ba972",
   "metadata": {},
   "outputs": [
    {
     "data": {
      "text/plain": [
       "(488, 2166)"
      ]
     },
     "execution_count": 5,
     "metadata": {},
     "output_type": "execute_result"
    }
   ],
   "source": [
    "# build the column names from the last file.\n",
    "df_columns = list(meta.keys()) + list(wvls.astype(int))\n",
    "data = np.array(data)\n",
    "data.shape\n",
    "df = pd.DataFrame(data=data, columns=df_columns)\n",
    "df.shape"
   ]
  },
  {
   "cell_type": "code",
   "execution_count": 6,
   "id": "a997d164",
   "metadata": {},
   "outputs": [
    {
     "data": {
      "text/html": [
       "<div>\n",
       "<style scoped>\n",
       "    .dataframe tbody tr th:only-of-type {\n",
       "        vertical-align: middle;\n",
       "    }\n",
       "\n",
       "    .dataframe tbody tr th {\n",
       "        vertical-align: top;\n",
       "    }\n",
       "\n",
       "    .dataframe thead th {\n",
       "        text-align: right;\n",
       "    }\n",
       "</style>\n",
       "<table border=\"1\" class=\"dataframe\">\n",
       "  <thead>\n",
       "    <tr style=\"text-align: right;\">\n",
       "      <th></th>\n",
       "      <th>ID</th>\n",
       "      <th>Dana_Classification</th>\n",
       "      <th>Mineral_Name</th>\n",
       "      <th>Mineral_Group</th>\n",
       "      <th>Sample_Number</th>\n",
       "      <th>Formula</th>\n",
       "      <th>Locality</th>\n",
       "      <th>Source_Type</th>\n",
       "      <th>Source_Name</th>\n",
       "      <th>Date_Acquired</th>\n",
       "      <th>...</th>\n",
       "      <th>2491</th>\n",
       "      <th>2492</th>\n",
       "      <th>2493</th>\n",
       "      <th>2494</th>\n",
       "      <th>2495</th>\n",
       "      <th>2496</th>\n",
       "      <th>2497</th>\n",
       "      <th>2498</th>\n",
       "      <th>2499</th>\n",
       "      <th>2500</th>\n",
       "    </tr>\n",
       "  </thead>\n",
       "  <tbody>\n",
       "    <tr>\n",
       "      <th>0</th>\n",
       "      <td>2155a</td>\n",
       "      <td>16b.1.1.(1,5)</td>\n",
       "      <td>Ancylite</td>\n",
       "      <td>Ancylite Group</td>\n",
       "      <td>NMC017464</td>\n",
       "      <td>(Ce,La)Sr(CO3)2(OH) · H2O</td>\n",
       "      <td>Oka, Deux-Montagnes, Quebec, Canada</td>\n",
       "      <td>Purchase</td>\n",
       "      <td>L.I. Cowan</td>\n",
       "      <td>1970</td>\n",
       "      <td>...</td>\n",
       "      <td>0.286647578</td>\n",
       "      <td>0.285574128</td>\n",
       "      <td>0.284534037</td>\n",
       "      <td>0.283488174</td>\n",
       "      <td>0.282631596</td>\n",
       "      <td>0.281855047</td>\n",
       "      <td>0.281145761</td>\n",
       "      <td>0.280419668</td>\n",
       "      <td>0.279789746</td>\n",
       "      <td>0.279236058</td>\n",
       "    </tr>\n",
       "    <tr>\n",
       "      <th>1</th>\n",
       "      <td>2156</td>\n",
       "      <td>16b.1.1.(1,5)</td>\n",
       "      <td>Ancylite</td>\n",
       "      <td>Ancylite Group</td>\n",
       "      <td>NMC064962</td>\n",
       "      <td>(Ce,La)Sr(CO3)2(OH) · H2O</td>\n",
       "      <td>Mont Saint-Hilaire, Quebec, Canada</td>\n",
       "      <td>Exchange</td>\n",
       "      <td>NMNS Mineral Sciences</td>\n",
       "      <td>1984</td>\n",
       "      <td>...</td>\n",
       "      <td>0.438991497</td>\n",
       "      <td>0.438028644</td>\n",
       "      <td>0.437181443</td>\n",
       "      <td>0.436326524</td>\n",
       "      <td>0.435410609</td>\n",
       "      <td>0.434512655</td>\n",
       "      <td>0.433636963</td>\n",
       "      <td>0.432825367</td>\n",
       "      <td>0.431990574</td>\n",
       "      <td>0.431214889</td>\n",
       "    </tr>\n",
       "    <tr>\n",
       "      <th>2</th>\n",
       "      <td>2155b</td>\n",
       "      <td>16b.1.1.(1,5)</td>\n",
       "      <td>Ancylite</td>\n",
       "      <td>Ancylite Group</td>\n",
       "      <td>NMC017464</td>\n",
       "      <td>(Ce,La)Sr(CO3)2(OH) · H2O</td>\n",
       "      <td>Oka, Deux-Montagnes, Quebec, Canada</td>\n",
       "      <td>Purchase</td>\n",
       "      <td>L.I. Cowan</td>\n",
       "      <td>1970</td>\n",
       "      <td>...</td>\n",
       "      <td>0.360665103</td>\n",
       "      <td>0.359890252</td>\n",
       "      <td>0.359077324</td>\n",
       "      <td>0.358303537</td>\n",
       "      <td>0.357597838</td>\n",
       "      <td>0.35694931</td>\n",
       "      <td>0.356367946</td>\n",
       "      <td>0.355753859</td>\n",
       "      <td>0.355214953</td>\n",
       "      <td>0.354707142</td>\n",
       "    </tr>\n",
       "    <tr>\n",
       "      <th>3</th>\n",
       "      <td>2157</td>\n",
       "      <td>16b.1.1.(1,5)</td>\n",
       "      <td>Ancylite-?</td>\n",
       "      <td>Ancylite Group</td>\n",
       "      <td>NMC066958</td>\n",
       "      <td>(Ce,La)Sr(CO3)2(OH) · H2O</td>\n",
       "      <td>Narsarsuk, Greenland</td>\n",
       "      <td>Purchase</td>\n",
       "      <td>The Adit</td>\n",
       "      <td>1980</td>\n",
       "      <td>...</td>\n",
       "      <td>0.11366342</td>\n",
       "      <td>0.113128675</td>\n",
       "      <td>0.112579751</td>\n",
       "      <td>0.112111491</td>\n",
       "      <td>0.111643309</td>\n",
       "      <td>0.11120368</td>\n",
       "      <td>0.110811234</td>\n",
       "      <td>0.110418131</td>\n",
       "      <td>0.110173382</td>\n",
       "      <td>0.109888767</td>\n",
       "    </tr>\n",
       "    <tr>\n",
       "      <th>4</th>\n",
       "      <td>2370</td>\n",
       "      <td>55.2.1b.2</td>\n",
       "      <td>Thalenite-(Y)</td>\n",
       "      <td>n/a</td>\n",
       "      <td>NMC067407</td>\n",
       "      <td>Y3Si3O10F</td>\n",
       "      <td>Pickens Mine, Haliburton Co., Ontario, Canada</td>\n",
       "      <td>Purchase</td>\n",
       "      <td>Nature's Window</td>\n",
       "      <td>1994</td>\n",
       "      <td>...</td>\n",
       "      <td>0.108602899</td>\n",
       "      <td>0.108043646</td>\n",
       "      <td>0.107536939</td>\n",
       "      <td>0.107070391</td>\n",
       "      <td>0.106585957</td>\n",
       "      <td>0.106207776</td>\n",
       "      <td>0.105825633</td>\n",
       "      <td>0.105548484</td>\n",
       "      <td>0.105195073</td>\n",
       "      <td>0.10488041</td>\n",
       "    </tr>\n",
       "  </tbody>\n",
       "</table>\n",
       "<p>5 rows × 2166 columns</p>\n",
       "</div>"
      ],
      "text/plain": [
       "      ID Dana_Classification   Mineral_Name   Mineral_Group Sample_Number  \\\n",
       "0  2155a       16b.1.1.(1,5)       Ancylite  Ancylite Group     NMC017464   \n",
       "1   2156       16b.1.1.(1,5)       Ancylite  Ancylite Group     NMC064962   \n",
       "2  2155b       16b.1.1.(1,5)       Ancylite  Ancylite Group     NMC017464   \n",
       "3   2157       16b.1.1.(1,5)     Ancylite-?  Ancylite Group     NMC066958   \n",
       "4   2370           55.2.1b.2  Thalenite-(Y)             n/a     NMC067407   \n",
       "\n",
       "                     Formula                                       Locality  \\\n",
       "0  (Ce,La)Sr(CO3)2(OH) · H2O            Oka, Deux-Montagnes, Quebec, Canada   \n",
       "1  (Ce,La)Sr(CO3)2(OH) · H2O             Mont Saint-Hilaire, Quebec, Canada   \n",
       "2  (Ce,La)Sr(CO3)2(OH) · H2O            Oka, Deux-Montagnes, Quebec, Canada   \n",
       "3  (Ce,La)Sr(CO3)2(OH) · H2O                           Narsarsuk, Greenland   \n",
       "4                  Y3Si3O10F  Pickens Mine, Haliburton Co., Ontario, Canada   \n",
       "\n",
       "  Source_Type            Source_Name Date_Acquired  ...         2491  \\\n",
       "0    Purchase             L.I. Cowan          1970  ...  0.286647578   \n",
       "1    Exchange  NMNS Mineral Sciences          1984  ...  0.438991497   \n",
       "2    Purchase             L.I. Cowan          1970  ...  0.360665103   \n",
       "3    Purchase               The Adit          1980  ...   0.11366342   \n",
       "4    Purchase        Nature's Window          1994  ...  0.108602899   \n",
       "\n",
       "          2492         2493         2494         2495         2496  \\\n",
       "0  0.285574128  0.284534037  0.283488174  0.282631596  0.281855047   \n",
       "1  0.438028644  0.437181443  0.436326524  0.435410609  0.434512655   \n",
       "2  0.359890252  0.359077324  0.358303537  0.357597838   0.35694931   \n",
       "3  0.113128675  0.112579751  0.112111491  0.111643309   0.11120368   \n",
       "4  0.108043646  0.107536939  0.107070391  0.106585957  0.106207776   \n",
       "\n",
       "          2497         2498         2499         2500  \n",
       "0  0.281145761  0.280419668  0.279789746  0.279236058  \n",
       "1  0.433636963  0.432825367  0.431990574  0.431214889  \n",
       "2  0.356367946  0.355753859  0.355214953  0.354707142  \n",
       "3  0.110811234  0.110418131  0.110173382  0.109888767  \n",
       "4  0.105825633  0.105548484  0.105195073   0.10488041  \n",
       "\n",
       "[5 rows x 2166 columns]"
      ]
     },
     "execution_count": 6,
     "metadata": {},
     "output_type": "execute_result"
    }
   ],
   "source": [
    "df.head()"
   ]
  },
  {
   "cell_type": "markdown",
   "id": "a7016302",
   "metadata": {},
   "source": [
    "# Assign mineral labels"
   ]
  },
  {
   "cell_type": "markdown",
   "id": "1ae2ca8f",
   "metadata": {},
   "source": [
    "Create a new column called `cm_ree_labels` by mapping the mineral name to the REE class value contained in `mineral_to_label_dict.csv`. \n",
    "\n",
    "If you come across and exception and this fails. Edit the `.csv` file to include the new entry.\n",
    "\n",
    "This is rather hacky because there can be so many variations to the mineral names."
   ]
  },
  {
   "cell_type": "code",
   "execution_count": 7,
   "id": "71302a26",
   "metadata": {},
   "outputs": [],
   "source": [
    "label_dict = {}\n",
    "with open('../input_data/mineral_to_label_dict.csv') as f:\n",
    "    for line in f:\n",
    "        try:\n",
    "            k, v = line.strip().split('\\t')\n",
    "            label_dict[k] = v\n",
    "        except:\n",
    "            # \n",
    "            print(line)\n",
    "            k, v = line.strip().split(';')\n",
    "            print(k, v)\n",
    "            label_dict[k.strip()] = v.strip()\n",
    "        \n",
    "df['cm_ree_labels'] = df['Mineral_Name'].map(label_dict, -1)"
   ]
  },
  {
   "cell_type": "code",
   "execution_count": 8,
   "id": "77fc2dfd",
   "metadata": {},
   "outputs": [],
   "source": [
    "# Move the last column to the first position\n",
    "cols = df.columns\n",
    "cols = [cols[-1]] + list(cols[:-1])\n",
    "df = df[cols]"
   ]
  },
  {
   "cell_type": "code",
   "execution_count": 9,
   "id": "3a5aa6dc",
   "metadata": {},
   "outputs": [],
   "source": [
    "df.to_csv('OF8619_with_labels.csv', index=False)"
   ]
  }
 ],
 "metadata": {
  "kernelspec": {
   "display_name": "reflectance",
   "language": "python",
   "name": "reflectance"
  },
  "language_info": {
   "codemirror_mode": {
    "name": "ipython",
    "version": 3
   },
   "file_extension": ".py",
   "mimetype": "text/x-python",
   "name": "python",
   "nbconvert_exporter": "python",
   "pygments_lexer": "ipython3",
   "version": "3.9.13"
  }
 },
 "nbformat": 4,
 "nbformat_minor": 5
}
