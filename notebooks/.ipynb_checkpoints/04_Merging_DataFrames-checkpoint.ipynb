{
 "cells": [
  {
   "cell_type": "code",
   "execution_count": 1,
   "id": "82aaaa7e",
   "metadata": {},
   "outputs": [],
   "source": [
    "import glob\n",
    "import pandas as pd\n",
    "import numpy as np\n",
    "import matplotlib.pyplot as plt"
   ]
  },
  {
   "cell_type": "markdown",
   "id": "49f00392",
   "metadata": {},
   "source": [
    "The goal here is to merge the 3 datasets into a single spreadsheet and save that out."
   ]
  },
  {
   "cell_type": "code",
   "execution_count": 2,
   "id": "08659e37",
   "metadata": {},
   "outputs": [
    {
     "data": {
      "text/plain": [
       "['OF8619_labels.csv', 'USGSsplib07a_with_labels.csv', 'OF7923_with_labels.csv']"
      ]
     },
     "execution_count": 2,
     "metadata": {},
     "output_type": "execute_result"
    }
   ],
   "source": [
    "dfnames = glob.glob('*.csv')\n",
    "datafiles = [dfnames[1], dfnames[0], dfnames[-1]]\n",
    "datafiles"
   ]
  },
  {
   "cell_type": "code",
   "execution_count": 3,
   "id": "174a9a0d",
   "metadata": {},
   "outputs": [
    {
     "name": "stdout",
     "output_type": "stream",
     "text": [
      "(488, 2167)\n",
      "(23, 2155)\n",
      "(145, 2162)\n"
     ]
    },
    {
     "name": "stderr",
     "output_type": "stream",
     "text": [
      "/tmp/ipykernel_1470422/679512267.py:4: DtypeWarning: Columns (10) have mixed types. Specify dtype option on import or set low_memory=False.\n",
      "  df = pd.read_csv(f)\n"
     ]
    }
   ],
   "source": [
    "dfs = []\n",
    "for f in datafiles:\n",
    "    name = f.split('_')[0]\n",
    "    df = pd.read_csv(f)\n",
    "    print(df.shape)\n",
    "    df['dataset'] = name\n",
    "    dfs.append(df)\n",
    "    "
   ]
  },
  {
   "cell_type": "code",
   "execution_count": 4,
   "id": "8f62b8c4",
   "metadata": {},
   "outputs": [],
   "source": [
    "common_cols = ['cm_ree_labels',\n",
    "               'ID',\n",
    "               'Mineral_Name',\n",
    "               'Mineral_Group',\n",
    "               'Formula',\n",
    "               'dataset']\n",
    "\n",
    "data_cols = [str(s) for s in np.arange(350, 2500, 1)]\n",
    "\n",
    "columns = common_cols + data_cols\n",
    "\n",
    "df = pd.concat(dfs)[columns]   # concate and reorder columns\n"
   ]
  },
  {
   "cell_type": "markdown",
   "id": "29cc8ed1",
   "metadata": {},
   "source": [
    "# To Dos:\n",
    "\n",
    "We might want to augment or enrich the dataset at this point. Possibilities include:\n",
    "\n",
    "- Add a field / column to describe the native resolution and extents? \n",
    "- Format the chemical formula so they are useful?\n",
    "- Add a column for concentration or degree of REE content?\n",
    "- Subdivide class 1 into \"has REEs\" and \"has not\"."
   ]
  },
  {
   "cell_type": "code",
   "execution_count": 5,
   "id": "fb490973",
   "metadata": {},
   "outputs": [
    {
     "data": {
      "text/html": [
       "<div>\n",
       "<style scoped>\n",
       "    .dataframe tbody tr th:only-of-type {\n",
       "        vertical-align: middle;\n",
       "    }\n",
       "\n",
       "    .dataframe tbody tr th {\n",
       "        vertical-align: top;\n",
       "    }\n",
       "\n",
       "    .dataframe thead th {\n",
       "        text-align: right;\n",
       "    }\n",
       "</style>\n",
       "<table border=\"1\" class=\"dataframe\">\n",
       "  <thead>\n",
       "    <tr style=\"text-align: right;\">\n",
       "      <th></th>\n",
       "      <th>cm_ree_labels</th>\n",
       "      <th>ID</th>\n",
       "      <th>Mineral_Name</th>\n",
       "      <th>Mineral_Group</th>\n",
       "      <th>Formula</th>\n",
       "      <th>dataset</th>\n",
       "      <th>350</th>\n",
       "      <th>351</th>\n",
       "      <th>352</th>\n",
       "      <th>353</th>\n",
       "      <th>...</th>\n",
       "      <th>2490</th>\n",
       "      <th>2491</th>\n",
       "      <th>2492</th>\n",
       "      <th>2493</th>\n",
       "      <th>2494</th>\n",
       "      <th>2495</th>\n",
       "      <th>2496</th>\n",
       "      <th>2497</th>\n",
       "      <th>2498</th>\n",
       "      <th>2499</th>\n",
       "    </tr>\n",
       "  </thead>\n",
       "  <tbody>\n",
       "    <tr>\n",
       "      <th>0</th>\n",
       "      <td>2</td>\n",
       "      <td>2155a</td>\n",
       "      <td>Ancylite</td>\n",
       "      <td>Ancylite Group</td>\n",
       "      <td>(Ce,La)Sr(CO3)2(OH) · H2O</td>\n",
       "      <td>OF8619</td>\n",
       "      <td>0.178708</td>\n",
       "      <td>0.176169</td>\n",
       "      <td>0.174322</td>\n",
       "      <td>0.171489</td>\n",
       "      <td>...</td>\n",
       "      <td>0.287711</td>\n",
       "      <td>0.286648</td>\n",
       "      <td>0.285574</td>\n",
       "      <td>0.284534</td>\n",
       "      <td>0.283488</td>\n",
       "      <td>0.282632</td>\n",
       "      <td>0.281855</td>\n",
       "      <td>0.281146</td>\n",
       "      <td>0.280420</td>\n",
       "      <td>0.279790</td>\n",
       "    </tr>\n",
       "    <tr>\n",
       "      <th>1</th>\n",
       "      <td>2</td>\n",
       "      <td>2156</td>\n",
       "      <td>Ancylite</td>\n",
       "      <td>Ancylite Group</td>\n",
       "      <td>(Ce,La)Sr(CO3)2(OH) · H2O</td>\n",
       "      <td>OF8619</td>\n",
       "      <td>0.345439</td>\n",
       "      <td>0.344923</td>\n",
       "      <td>0.344561</td>\n",
       "      <td>0.341901</td>\n",
       "      <td>...</td>\n",
       "      <td>0.440031</td>\n",
       "      <td>0.438991</td>\n",
       "      <td>0.438029</td>\n",
       "      <td>0.437181</td>\n",
       "      <td>0.436327</td>\n",
       "      <td>0.435411</td>\n",
       "      <td>0.434513</td>\n",
       "      <td>0.433637</td>\n",
       "      <td>0.432825</td>\n",
       "      <td>0.431991</td>\n",
       "    </tr>\n",
       "    <tr>\n",
       "      <th>2</th>\n",
       "      <td>2</td>\n",
       "      <td>2155b</td>\n",
       "      <td>Ancylite</td>\n",
       "      <td>Ancylite Group</td>\n",
       "      <td>(Ce,La)Sr(CO3)2(OH) · H2O</td>\n",
       "      <td>OF8619</td>\n",
       "      <td>0.162516</td>\n",
       "      <td>0.160701</td>\n",
       "      <td>0.159454</td>\n",
       "      <td>0.157421</td>\n",
       "      <td>...</td>\n",
       "      <td>0.361510</td>\n",
       "      <td>0.360665</td>\n",
       "      <td>0.359890</td>\n",
       "      <td>0.359077</td>\n",
       "      <td>0.358304</td>\n",
       "      <td>0.357598</td>\n",
       "      <td>0.356949</td>\n",
       "      <td>0.356368</td>\n",
       "      <td>0.355754</td>\n",
       "      <td>0.355215</td>\n",
       "    </tr>\n",
       "    <tr>\n",
       "      <th>3</th>\n",
       "      <td>2</td>\n",
       "      <td>2157</td>\n",
       "      <td>Ancylite-?</td>\n",
       "      <td>Ancylite Group</td>\n",
       "      <td>(Ce,La)Sr(CO3)2(OH) · H2O</td>\n",
       "      <td>OF8619</td>\n",
       "      <td>0.131739</td>\n",
       "      <td>0.131160</td>\n",
       "      <td>0.130220</td>\n",
       "      <td>0.127734</td>\n",
       "      <td>...</td>\n",
       "      <td>0.114268</td>\n",
       "      <td>0.113663</td>\n",
       "      <td>0.113129</td>\n",
       "      <td>0.112580</td>\n",
       "      <td>0.112111</td>\n",
       "      <td>0.111643</td>\n",
       "      <td>0.111204</td>\n",
       "      <td>0.110811</td>\n",
       "      <td>0.110418</td>\n",
       "      <td>0.110173</td>\n",
       "    </tr>\n",
       "    <tr>\n",
       "      <th>4</th>\n",
       "      <td>2</td>\n",
       "      <td>2370</td>\n",
       "      <td>Thalenite-(Y)</td>\n",
       "      <td>NaN</td>\n",
       "      <td>Y3Si3O10F</td>\n",
       "      <td>OF8619</td>\n",
       "      <td>0.120644</td>\n",
       "      <td>0.119710</td>\n",
       "      <td>0.118695</td>\n",
       "      <td>0.117396</td>\n",
       "      <td>...</td>\n",
       "      <td>0.109176</td>\n",
       "      <td>0.108603</td>\n",
       "      <td>0.108044</td>\n",
       "      <td>0.107537</td>\n",
       "      <td>0.107070</td>\n",
       "      <td>0.106586</td>\n",
       "      <td>0.106208</td>\n",
       "      <td>0.105826</td>\n",
       "      <td>0.105548</td>\n",
       "      <td>0.105195</td>\n",
       "    </tr>\n",
       "  </tbody>\n",
       "</table>\n",
       "<p>5 rows × 2156 columns</p>\n",
       "</div>"
      ],
      "text/plain": [
       "   cm_ree_labels     ID   Mineral_Name   Mineral_Group  \\\n",
       "0              2  2155a       Ancylite  Ancylite Group   \n",
       "1              2   2156       Ancylite  Ancylite Group   \n",
       "2              2  2155b       Ancylite  Ancylite Group   \n",
       "3              2   2157     Ancylite-?  Ancylite Group   \n",
       "4              2   2370  Thalenite-(Y)             NaN   \n",
       "\n",
       "                     Formula dataset       350       351       352       353  \\\n",
       "0  (Ce,La)Sr(CO3)2(OH) · H2O  OF8619  0.178708  0.176169  0.174322  0.171489   \n",
       "1  (Ce,La)Sr(CO3)2(OH) · H2O  OF8619  0.345439  0.344923  0.344561  0.341901   \n",
       "2  (Ce,La)Sr(CO3)2(OH) · H2O  OF8619  0.162516  0.160701  0.159454  0.157421   \n",
       "3  (Ce,La)Sr(CO3)2(OH) · H2O  OF8619  0.131739  0.131160  0.130220  0.127734   \n",
       "4                  Y3Si3O10F  OF8619  0.120644  0.119710  0.118695  0.117396   \n",
       "\n",
       "   ...      2490      2491      2492      2493      2494      2495      2496  \\\n",
       "0  ...  0.287711  0.286648  0.285574  0.284534  0.283488  0.282632  0.281855   \n",
       "1  ...  0.440031  0.438991  0.438029  0.437181  0.436327  0.435411  0.434513   \n",
       "2  ...  0.361510  0.360665  0.359890  0.359077  0.358304  0.357598  0.356949   \n",
       "3  ...  0.114268  0.113663  0.113129  0.112580  0.112111  0.111643  0.111204   \n",
       "4  ...  0.109176  0.108603  0.108044  0.107537  0.107070  0.106586  0.106208   \n",
       "\n",
       "       2497      2498      2499  \n",
       "0  0.281146  0.280420  0.279790  \n",
       "1  0.433637  0.432825  0.431991  \n",
       "2  0.356368  0.355754  0.355215  \n",
       "3  0.110811  0.110418  0.110173  \n",
       "4  0.105826  0.105548  0.105195  \n",
       "\n",
       "[5 rows x 2156 columns]"
      ]
     },
     "execution_count": 5,
     "metadata": {},
     "output_type": "execute_result"
    }
   ],
   "source": [
    "df.head()"
   ]
  },
  {
   "cell_type": "code",
   "execution_count": 6,
   "id": "75946298",
   "metadata": {},
   "outputs": [],
   "source": [
    "df.to_csv('merged_data_with_labels.csv')"
   ]
  }
 ],
 "metadata": {
  "kernelspec": {
   "display_name": "reflectance",
   "language": "python",
   "name": "reflectance"
  },
  "language_info": {
   "codemirror_mode": {
    "name": "ipython",
    "version": 3
   },
   "file_extension": ".py",
   "mimetype": "text/x-python",
   "name": "python",
   "nbconvert_exporter": "python",
   "pygments_lexer": "ipython3",
   "version": "3.9.13"
  }
 },
 "nbformat": 4,
 "nbformat_minor": 5
}
