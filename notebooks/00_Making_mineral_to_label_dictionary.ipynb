{
 "cells": [
  {
   "cell_type": "markdown",
   "id": "57b1588b",
   "metadata": {},
   "source": [
    "## Making a dictionary of Mineral Names and Labels"
   ]
  },
  {
   "cell_type": "markdown",
   "id": "0005d232",
   "metadata": {},
   "source": [
    "This creates a mapping between the (sometimes) very verbose mineral name and the REE class: 0, 1, or 2."
   ]
  },
  {
   "cell_type": "code",
   "execution_count": 1,
   "id": "bc578df4",
   "metadata": {},
   "outputs": [
    {
     "name": "stdout",
     "output_type": "stream",
     "text": [
      "watch out for \n",
      "  Aeschynite-(Ce), var. Lyndochite\n",
      "watch out for \n",
      "  Ceriopyrochlore, titanian, var. Marignacite\n",
      "watch out for \n",
      "  Thorite, uranoan\n",
      "watch out for \n",
      "  Uranpyrochlore, plumboan var. Samiresite\n",
      "watch out for \n",
      "  Gittinsite (+apophyllite, vlasovite, eudialyte)\n",
      "watch out for \n",
      "  Kalipyrochlore, Strontian\n"
     ]
    }
   ],
   "source": [
    "# Get mineral labels, and mineral labels as lists\n",
    "with open('../input_data/mineral_label_encoding.csv') as f:\n",
    "    lines = f.readlines()\n",
    "    \n",
    "min_names, label_idx = [], []\n",
    "\n",
    "# Dealing with some weird \"Mineral\" names...so ugly!\n",
    "for line in lines[1:]:\n",
    "    if line.count(',') >= 2:\n",
    "        # there will be some loss in the middle\n",
    "        a = line.strip().split(',')[:-1]\n",
    "        b = line.split(',')[-1]\n",
    "        if len(a) == 2:\n",
    "            a = a[0] + ',' + a[1]\n",
    "        if len(a) == 3:\n",
    "            a = a[0] + ',' + a[1] + ',' + a[2]\n",
    "        \n",
    "        print(f'watch out for \\n  {a}')\n",
    "    else:\n",
    "        a, b = line.strip().split(',')\n",
    "    min_names.append(a)\n",
    "    label_idx.append(int(b.strip()))\n",
    "    \n",
    "len(min_names), len(label_idx)\n",
    "\n",
    "# Make a dict to map mineral names to labels\n",
    "label_dict = {}\n",
    "for k, v, in zip(min_names, label_idx):\n",
    "    label_dict[k] = v"
   ]
  },
  {
   "cell_type": "code",
   "execution_count": 2,
   "id": "fa6f2134",
   "metadata": {},
   "outputs": [],
   "source": [
    "with open('../input_data/mineral_to_label_dict.csv', 'w') as f:\n",
    "    for k, v in label_dict.items():\n",
    "        f.write(str(k) + '\\t' + str(v) + '\\n')"
   ]
  },
  {
   "cell_type": "code",
   "execution_count": null,
   "id": "41294382",
   "metadata": {},
   "outputs": [],
   "source": []
  }
 ],
 "metadata": {
  "kernelspec": {
   "display_name": "reflectance",
   "language": "python",
   "name": "reflectance"
  },
  "language_info": {
   "codemirror_mode": {
    "name": "ipython",
    "version": 3
   },
   "file_extension": ".py",
   "mimetype": "text/x-python",
   "name": "python",
   "nbconvert_exporter": "python",
   "pygments_lexer": "ipython3",
   "version": "3.9.13"
  }
 },
 "nbformat": 4,
 "nbformat_minor": 5
}
